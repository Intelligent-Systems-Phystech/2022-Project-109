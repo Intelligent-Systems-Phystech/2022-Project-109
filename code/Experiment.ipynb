{
 "cells": [
  {
   "cell_type": "markdown",
   "id": "9aff2c12",
   "metadata": {
    "ExecuteTime": {
     "end_time": "2022-03-06T20:21:16.342880Z",
     "start_time": "2022-03-06T20:21:14.925957Z"
    },
    "scrolled": true
   },
   "source": [
    "# Imports"
   ]
  },
  {
   "cell_type": "code",
   "execution_count": 8,
   "id": "d258eb95",
   "metadata": {},
   "outputs": [],
   "source": [
    "import os\n",
    "import torchcde\n",
    "import torch\n",
    "import tensorboard\n",
    "import pytorch_lightning as pl\n",
    "from pytorch_lightning.callbacks import ModelCheckpoint\n",
    "from pytorch_lightning import loggers as pl_loggers\n",
    "\n",
    "\n",
    "from node.models import EegNet\n",
    "\n",
    "from node.runners.base import Learner\n"
   ]
  },
  {
   "cell_type": "markdown",
   "id": "25a53294",
   "metadata": {},
   "source": [
    "### Import P300"
   ]
  },
  {
   "cell_type": "code",
   "execution_count": 9,
   "id": "c963e092",
   "metadata": {},
   "outputs": [],
   "source": [
    "from node.dataset import P300Dataset"
   ]
  },
  {
   "cell_type": "code",
   "execution_count": 7,
   "id": "a84a8574",
   "metadata": {
    "ExecuteTime": {
     "end_time": "2022-03-06T20:21:38.672652Z",
     "start_time": "2022-03-06T20:21:16.344822Z"
    }
   },
   "outputs": [],
   "source": [
    "ds = P300Dataset().get_data()"
   ]
  },
  {
   "cell_type": "code",
   "execution_count": 10,
   "id": "223255ac",
   "metadata": {},
   "outputs": [
    {
     "data": {
      "text/plain": [
       "2"
      ]
     },
     "execution_count": 10,
     "metadata": {},
     "output_type": "execute_result"
    }
   ],
   "source": [
    "len(ds)"
   ]
  },
  {
   "cell_type": "code",
   "execution_count": 11,
   "id": "1d52dbd9",
   "metadata": {},
   "outputs": [],
   "source": [
    "X, y = ds[0], ds[1]"
   ]
  },
  {
   "cell_type": "code",
   "execution_count": 12,
   "id": "7167c4cc",
   "metadata": {},
   "outputs": [
    {
     "data": {
      "text/plain": [
       "torch.Size([56540, 40, 8])"
      ]
     },
     "execution_count": 12,
     "metadata": {},
     "output_type": "execute_result"
    }
   ],
   "source": [
    "X.shape"
   ]
  },
  {
   "cell_type": "code",
   "execution_count": 13,
   "id": "98419433",
   "metadata": {},
   "outputs": [],
   "source": [
    "from sklearn.model_selection import train_test_split\n",
    "\n",
    "X_train, X_test, y_train, y_test = train_test_split(X, y, test_size=0.2, random_state=42, stratify = y)"
   ]
  },
  {
   "cell_type": "code",
   "execution_count": 14,
   "id": "811415e0",
   "metadata": {},
   "outputs": [
    {
     "data": {
      "text/plain": [
       "45232"
      ]
     },
     "execution_count": 14,
     "metadata": {},
     "output_type": "execute_result"
    }
   ],
   "source": [
    "len(X_train)"
   ]
  },
  {
   "cell_type": "code",
   "execution_count": 15,
   "id": "aee45332",
   "metadata": {},
   "outputs": [
    {
     "data": {
      "text/plain": [
       "11308"
      ]
     },
     "execution_count": 15,
     "metadata": {},
     "output_type": "execute_result"
    }
   ],
   "source": [
    "len(X_test)"
   ]
  },
  {
   "cell_type": "code",
   "execution_count": 16,
   "id": "e19e62c1",
   "metadata": {},
   "outputs": [],
   "source": [
    "import torch.utils.data as data\n",
    "\n",
    "train = data.TensorDataset(X_train, y_train)\n",
    "test = data.TensorDataset(X_test, y_test)"
   ]
  },
  {
   "cell_type": "code",
   "execution_count": 17,
   "id": "deed0eda",
   "metadata": {},
   "outputs": [],
   "source": [
    "trainloader = data.DataLoader(train, batch_size=128, shuffle=True, num_workers=4)\n",
    "testloader = data.DataLoader(test, batch_size=128, shuffle=False, num_workers=4)\n",
    "\n",
    "counts = y_test.unique(return_counts=True)[1].to(torch.float)\n",
    "class_balance = counts / counts.min()"
   ]
  },
  {
   "cell_type": "markdown",
   "id": "62858500",
   "metadata": {},
   "source": [
    "# EegNet"
   ]
  },
  {
   "cell_type": "code",
   "execution_count": 18,
   "id": "974fec3e",
   "metadata": {},
   "outputs": [],
   "source": [
    "checkpoint_callback = ModelCheckpoint(\n",
    "    monitor='val_f1',\n",
    "    mode = 'max',\n",
    "    dirpath='logs/models/demons/EEGNET/',\n",
    "    save_top_k = 3,\n",
    ")"
   ]
  },
  {
   "cell_type": "code",
   "execution_count": 19,
   "id": "dedd1a08",
   "metadata": {},
   "outputs": [],
   "source": [
    "eegnet = EegNet(\n",
    "    input_size =(X.shape[1], X.shape[2]),\n",
    "    rate = 50,\n",
    "    F1 = 2,\n",
    "    D = 4,\n",
    ")"
   ]
  },
  {
   "cell_type": "code",
   "execution_count": 20,
   "id": "cd4b71b2",
   "metadata": {},
   "outputs": [
    {
     "name": "stderr",
     "output_type": "stream",
     "text": [
      "/home/philip/.local/lib/python3.9/site-packages/deprecate/deprecation.py:115: FutureWarning: The `F1` was deprecated since v0.7 in favor of `torchmetrics.classification.f_beta.F1Score`. It will be removed in v0.8.\n",
      "  stream(template_mgs % msg_args)\n"
     ]
    }
   ],
   "source": [
    "learn = Learner(eegnet, lr=0.05, timestamps=False, class_weights = 1/class_balance)"
   ]
  },
  {
   "cell_type": "code",
   "execution_count": 23,
   "id": "4d26c6d8",
   "metadata": {},
   "outputs": [
    {
     "name": "stderr",
     "output_type": "stream",
     "text": [
      "GPU available: False, used: False\n",
      "TPU available: False, using: 0 TPU cores\n",
      "IPU available: False, using: 0 IPUs\n",
      "\n",
      "  | Name     | Type     | Params\n",
      "--------------------------------------\n",
      "0 | model    | EegNet   | 584   \n",
      "1 | accuracy | Accuracy | 0     \n",
      "2 | f1       | F1       | 0     \n",
      "--------------------------------------\n",
      "584       Trainable params\n",
      "0         Non-trainable params\n",
      "584       Total params\n",
      "0.002     Total estimated model params size (MB)\n"
     ]
    },
    {
     "data": {
      "application/vnd.jupyter.widget-view+json": {
       "model_id": "",
       "version_major": 2,
       "version_minor": 0
      },
      "text/plain": [
       "Validation sanity check: 0it [00:00, ?it/s]"
      ]
     },
     "metadata": {},
     "output_type": "display_data"
    },
    {
     "data": {
      "application/vnd.jupyter.widget-view+json": {
       "model_id": "99c7709fbb2f429f83fb51ec5b0d988c",
       "version_major": 2,
       "version_minor": 0
      },
      "text/plain": [
       "Training: 0it [00:00, ?it/s]"
      ]
     },
     "metadata": {},
     "output_type": "display_data"
    },
    {
     "data": {
      "application/vnd.jupyter.widget-view+json": {
       "model_id": "",
       "version_major": 2,
       "version_minor": 0
      },
      "text/plain": [
       "Validating: 0it [00:00, ?it/s]"
      ]
     },
     "metadata": {},
     "output_type": "display_data"
    },
    {
     "data": {
      "application/vnd.jupyter.widget-view+json": {
       "model_id": "",
       "version_major": 2,
       "version_minor": 0
      },
      "text/plain": [
       "Validating: 0it [00:00, ?it/s]"
      ]
     },
     "metadata": {},
     "output_type": "display_data"
    },
    {
     "data": {
      "application/vnd.jupyter.widget-view+json": {
       "model_id": "",
       "version_major": 2,
       "version_minor": 0
      },
      "text/plain": [
       "Validating: 0it [00:00, ?it/s]"
      ]
     },
     "metadata": {},
     "output_type": "display_data"
    },
    {
     "data": {
      "application/vnd.jupyter.widget-view+json": {
       "model_id": "",
       "version_major": 2,
       "version_minor": 0
      },
      "text/plain": [
       "Validating: 0it [00:00, ?it/s]"
      ]
     },
     "metadata": {},
     "output_type": "display_data"
    },
    {
     "data": {
      "application/vnd.jupyter.widget-view+json": {
       "model_id": "",
       "version_major": 2,
       "version_minor": 0
      },
      "text/plain": [
       "Validating: 0it [00:00, ?it/s]"
      ]
     },
     "metadata": {},
     "output_type": "display_data"
    },
    {
     "data": {
      "application/vnd.jupyter.widget-view+json": {
       "model_id": "",
       "version_major": 2,
       "version_minor": 0
      },
      "text/plain": [
       "Validating: 0it [00:00, ?it/s]"
      ]
     },
     "metadata": {},
     "output_type": "display_data"
    },
    {
     "data": {
      "application/vnd.jupyter.widget-view+json": {
       "model_id": "",
       "version_major": 2,
       "version_minor": 0
      },
      "text/plain": [
       "Validating: 0it [00:00, ?it/s]"
      ]
     },
     "metadata": {},
     "output_type": "display_data"
    },
    {
     "data": {
      "application/vnd.jupyter.widget-view+json": {
       "model_id": "",
       "version_major": 2,
       "version_minor": 0
      },
      "text/plain": [
       "Validating: 0it [00:00, ?it/s]"
      ]
     },
     "metadata": {},
     "output_type": "display_data"
    },
    {
     "data": {
      "application/vnd.jupyter.widget-view+json": {
       "model_id": "",
       "version_major": 2,
       "version_minor": 0
      },
      "text/plain": [
       "Validating: 0it [00:00, ?it/s]"
      ]
     },
     "metadata": {},
     "output_type": "display_data"
    },
    {
     "data": {
      "application/vnd.jupyter.widget-view+json": {
       "model_id": "",
       "version_major": 2,
       "version_minor": 0
      },
      "text/plain": [
       "Validating: 0it [00:00, ?it/s]"
      ]
     },
     "metadata": {},
     "output_type": "display_data"
    }
   ],
   "source": [
    "trainer = pl.Trainer(\n",
    "    max_epochs=10,\n",
    "    progress_bar_refresh_rate=1,\n",
    "    gradient_clip_val=1,\n",
    "    callbacks=[checkpoint_callback]\n",
    "    \n",
    ")\n",
    "trainer.fit(learn, trainloader, val_dataloaders = testloader)"
   ]
  },
  {
   "cell_type": "code",
   "execution_count": 22,
   "id": "d6b2dbec",
   "metadata": {},
   "outputs": [
    {
     "data": {
      "application/vnd.jupyter.widget-view+json": {
       "model_id": "9ad37eec21b44618ab2e4f0efb8b3ce1",
       "version_major": 2,
       "version_minor": 0
      },
      "text/plain": [
       "Testing: 0it [00:00, ?it/s]"
      ]
     },
     "metadata": {},
     "output_type": "display_data"
    },
    {
     "name": "stdout",
     "output_type": "stream",
     "text": [
      "--------------------------------------------------------------------------------\n",
      "DATALOADER:0 TEST RESULTS\n",
      "{'val_acc': 0.8012911081314087,\n",
      " 'val_f1': 0.713215708732605,\n",
      " 'val_loss': 0.9017326831817627}\n",
      "--------------------------------------------------------------------------------\n"
     ]
    }
   ],
   "source": [
    "results = trainer.test(learn, testloader)\n",
    "base_path = \"results/{}\".format(\"person_lcde\")\n",
    "os.makedirs(base_path, exist_ok=True)\n",
    "with open(\"{}/pt_ode_lstm_{}.csv\".format(base_path, 128), \"a\") as f:\n",
    "    f.write(\"{:03f}\\n\".format(results[0][\"val_acc\"]))"
   ]
  },
  {
   "cell_type": "code",
   "execution_count": null,
   "id": "c1994611",
   "metadata": {},
   "outputs": [],
   "source": []
  },
  {
   "cell_type": "code",
   "execution_count": null,
   "id": "874eca47",
   "metadata": {},
   "outputs": [],
   "source": []
  },
  {
   "cell_type": "code",
   "execution_count": null,
   "id": "f2e2079c",
   "metadata": {},
   "outputs": [],
   "source": []
  },
  {
   "cell_type": "code",
   "execution_count": null,
   "id": "6fd290fe",
   "metadata": {},
   "outputs": [],
   "source": []
  },
  {
   "cell_type": "code",
   "execution_count": null,
   "id": "d59d3b86",
   "metadata": {},
   "outputs": [],
   "source": []
  },
  {
   "cell_type": "code",
   "execution_count": null,
   "id": "87292c6f",
   "metadata": {},
   "outputs": [],
   "source": []
  },
  {
   "cell_type": "code",
   "execution_count": null,
   "id": "95a29d9f",
   "metadata": {},
   "outputs": [],
   "source": []
  }
 ],
 "metadata": {
  "kernelspec": {
   "display_name": "Python 3 (ipykernel)",
   "language": "python",
   "name": "python3"
  },
  "language_info": {
   "codemirror_mode": {
    "name": "ipython",
    "version": 3
   },
   "file_extension": ".py",
   "mimetype": "text/x-python",
   "name": "python",
   "nbconvert_exporter": "python",
   "pygments_lexer": "ipython3",
   "version": "3.9.5"
  },
  "toc": {
   "base_numbering": 1,
   "nav_menu": {},
   "number_sections": true,
   "sideBar": true,
   "skip_h1_title": false,
   "title_cell": "Table of Contents",
   "title_sidebar": "Contents",
   "toc_cell": false,
   "toc_position": {},
   "toc_section_display": true,
   "toc_window_display": false
  }
 },
 "nbformat": 4,
 "nbformat_minor": 5
}
